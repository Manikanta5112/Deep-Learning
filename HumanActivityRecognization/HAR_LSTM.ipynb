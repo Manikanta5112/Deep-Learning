{
 "cells": [
  {
   "cell_type": "code",
   "execution_count": 1,
   "metadata": {
    "collapsed": true
   },
   "outputs": [],
   "source": [
    "# Importing Libraries"
   ]
  },
  {
   "cell_type": "code",
   "execution_count": 6,
   "metadata": {},
   "outputs": [],
   "source": [
    "import pandas as pd\n",
    "import numpy as np"
   ]
  },
  {
   "cell_type": "code",
   "execution_count": 7,
   "metadata": {},
   "outputs": [],
   "source": [
    "# Activities are the class labels\n",
    "# It is a 6 class classification\n",
    "ACTIVITIES = {\n",
    "    0: 'WALKING',\n",
    "    1: 'WALKING_UPSTAIRS',\n",
    "    2: 'WALKING_DOWNSTAIRS',\n",
    "    3: 'SITTING',\n",
    "    4: 'STANDING',\n",
    "    5: 'LAYING',\n",
    "}\n",
    "\n",
    "# Utility function to print the confusion matrix\n",
    "def confusion_matrix(Y_true, Y_pred):\n",
    "    Y_true = pd.Series([ACTIVITIES[y] for y in np.argmax(Y_true, axis=1)])\n",
    "    Y_pred = pd.Series([ACTIVITIES[y] for y in np.argmax(Y_pred, axis=1)])\n",
    "\n",
    "    return pd.crosstab(Y_true, Y_pred, rownames=['True'], colnames=['Pred'])"
   ]
  },
  {
   "cell_type": "markdown",
   "metadata": {},
   "source": [
    "### Data"
   ]
  },
  {
   "cell_type": "code",
   "execution_count": 8,
   "metadata": {},
   "outputs": [],
   "source": [
    "# Data directory\n",
    "DATADIR = 'UCI_HAR_Dataset'"
   ]
  },
  {
   "cell_type": "code",
   "execution_count": 9,
   "metadata": {},
   "outputs": [],
   "source": [
    "# Raw data signals\n",
    "# Signals are from Accelerometer and Gyroscope\n",
    "# The signals are in x,y,z directions\n",
    "# Sensor signals are filtered to have only body acceleration\n",
    "# excluding the acceleration due to gravity\n",
    "# Triaxial acceleration from the accelerometer is total acceleration\n",
    "SIGNALS = [\n",
    "    \"body_acc_x\",\n",
    "    \"body_acc_y\",\n",
    "    \"body_acc_z\",\n",
    "    \"body_gyro_x\",\n",
    "    \"body_gyro_y\",\n",
    "    \"body_gyro_z\",\n",
    "    \"total_acc_x\",\n",
    "    \"total_acc_y\",\n",
    "    \"total_acc_z\"\n",
    "]"
   ]
  },
  {
   "cell_type": "code",
   "execution_count": 25,
   "metadata": {},
   "outputs": [],
   "source": [
    "# Utility function to read the data from csv file\n",
    "def _read_csv(filename):\n",
    "    return pd.read_csv(filename, delim_whitespace=True, header=None)\n",
    "\n",
    "# Utility function to load the load\n",
    "def load_signals(subset):\n",
    "    signals_data = []\n",
    "\n",
    "    for signal in SIGNALS:\n",
    "        filename = f'UCI_HAR_Dataset/{subset}/Inertial Signals/{signal}_{subset}.txt'\n",
    "        signals_data.append(\n",
    "            _read_csv(filename).to_numpy()\n",
    "        ) \n",
    "\n",
    "    # Transpose is used to change the dimensionality of the output,\n",
    "    # aggregating the signals by combination of sample/timestep.\n",
    "    # Resultant shape is (7352 train/2947 test samples, 128 timesteps, 9 signals)\n",
    "    return np.transpose(signals_data, (1, 2, 0))"
   ]
  },
  {
   "cell_type": "code",
   "execution_count": 27,
   "metadata": {},
   "outputs": [],
   "source": [
    "\n",
    "def load_y(subset):\n",
    "    \"\"\"\n",
    "    The objective that we are trying to predict is a integer, from 1 to 6,\n",
    "    that represents a human activity. We return a binary representation of \n",
    "    every sample objective as a 6 bits vector using One Hot Encoding\n",
    "    (https://pandas.pydata.org/pandas-docs/stable/generated/pandas.get_dummies.html)\n",
    "    \"\"\"\n",
    "    filename = f'UCI_HAR_Dataset/{subset}/y_{subset}.txt'\n",
    "    y = _read_csv(filename)[0]\n",
    "\n",
    "    return pd.get_dummies(y).to_numpy()"
   ]
  },
  {
   "cell_type": "code",
   "execution_count": 21,
   "metadata": {},
   "outputs": [],
   "source": [
    "def load_data():\n",
    "    \"\"\"\n",
    "    Obtain the dataset from multiple files.\n",
    "    Returns: X_train, X_test, y_train, y_test\n",
    "    \"\"\"\n",
    "    X_train, X_test = load_signals('train'), load_signals('test')\n",
    "    y_train, y_test = load_y('train'), load_y('test')\n",
    "\n",
    "    return X_train, X_test, y_train, y_test"
   ]
  },
  {
   "cell_type": "code",
   "execution_count": 15,
   "metadata": {},
   "outputs": [],
   "source": [
    "# Importing libraries\n",
    "from keras.models import Sequential\n",
    "from keras.layers import LSTM\n",
    "from keras.layers.core import Dense, Dropout"
   ]
  },
  {
   "cell_type": "code",
   "execution_count": 17,
   "metadata": {},
   "outputs": [],
   "source": [
    "# Initializing parameters\n",
    "epochs = 30\n",
    "batch_size = 16\n",
    "n_hidden = 32"
   ]
  },
  {
   "cell_type": "code",
   "execution_count": 18,
   "metadata": {},
   "outputs": [],
   "source": [
    "# Utility function to count the number of classes\n",
    "def _count_classes(y):\n",
    "    return len(set([tuple(category) for category in y]))"
   ]
  },
  {
   "cell_type": "code",
   "execution_count": 28,
   "metadata": {},
   "outputs": [],
   "source": [
    "# Loading the train and test data\n",
    "X_train, X_test, Y_train, Y_test = load_data()"
   ]
  },
  {
   "cell_type": "code",
   "execution_count": 29,
   "metadata": {},
   "outputs": [
    {
     "name": "stdout",
     "output_type": "stream",
     "text": [
      "128\n",
      "9\n",
      "7352\n"
     ]
    }
   ],
   "source": [
    "timesteps = len(X_train[0])\n",
    "input_dim = len(X_train[0][0])\n",
    "n_classes = _count_classes(Y_train)\n",
    "\n",
    "print(timesteps)\n",
    "print(input_dim)\n",
    "print(len(X_train))"
   ]
  },
  {
   "cell_type": "markdown",
   "metadata": {},
   "source": [
    "- Defining the Architecture of LSTM"
   ]
  },
  {
   "cell_type": "code",
   "execution_count": 30,
   "metadata": {},
   "outputs": [
    {
     "name": "stderr",
     "output_type": "stream",
     "text": [
      "2023-01-05 16:02:07.734649: I tensorflow/core/common_runtime/pluggable_device/pluggable_device_factory.cc:306] Could not identify NUMA node of platform GPU ID 0, defaulting to 0. Your kernel may not have been built with NUMA support.\n",
      "2023-01-05 16:02:07.735500: I tensorflow/core/common_runtime/pluggable_device/pluggable_device_factory.cc:272] Created TensorFlow device (/job:localhost/replica:0/task:0/device:GPU:0 with 0 MB memory) -> physical PluggableDevice (device: 0, name: METAL, pci bus id: <undefined>)\n"
     ]
    },
    {
     "name": "stdout",
     "output_type": "stream",
     "text": [
      "Metal device set to: Apple M1\n",
      "Model: \"sequential\"\n",
      "_________________________________________________________________\n",
      " Layer (type)                Output Shape              Param #   \n",
      "=================================================================\n",
      " lstm (LSTM)                 (None, 32)                5376      \n",
      "                                                                 \n",
      " dropout (Dropout)           (None, 32)                0         \n",
      "                                                                 \n",
      " dense (Dense)               (None, 6)                 198       \n",
      "                                                                 \n",
      "=================================================================\n",
      "Total params: 5,574\n",
      "Trainable params: 5,574\n",
      "Non-trainable params: 0\n",
      "_________________________________________________________________\n"
     ]
    }
   ],
   "source": [
    "# Initiliazing the sequential model\n",
    "model = Sequential()\n",
    "# Configuring the parameters\n",
    "model.add(LSTM(n_hidden, input_shape=(timesteps, input_dim)))\n",
    "# Adding a dropout layer\n",
    "model.add(Dropout(0.5))\n",
    "# Adding a dense output layer with sigmoid activation\n",
    "model.add(Dense(n_classes, activation='sigmoid'))\n",
    "model.summary()"
   ]
  },
  {
   "cell_type": "code",
   "execution_count": 31,
   "metadata": {},
   "outputs": [],
   "source": [
    "# Compiling the model\n",
    "model.compile(loss='categorical_crossentropy',\n",
    "              optimizer='rmsprop',\n",
    "              metrics=['accuracy'])"
   ]
  },
  {
   "cell_type": "code",
   "execution_count": 32,
   "metadata": {},
   "outputs": [
    {
     "name": "stdout",
     "output_type": "stream",
     "text": [
      "Epoch 1/30\n"
     ]
    },
    {
     "name": "stderr",
     "output_type": "stream",
     "text": [
      "2023-01-05 16:02:15.983963: W tensorflow/core/platform/profile_utils/cpu_utils.cc:128] Failed to get CPU frequency: 0 Hz\n",
      "2023-01-05 16:02:16.501545: I tensorflow/core/grappler/optimizers/custom_graph_optimizer_registry.cc:114] Plugin optimizer for device_type GPU is enabled.\n",
      "2023-01-05 16:02:16.678164: I tensorflow/core/grappler/optimizers/custom_graph_optimizer_registry.cc:114] Plugin optimizer for device_type GPU is enabled.\n",
      "2023-01-05 16:02:17.394501: I tensorflow/core/grappler/optimizers/custom_graph_optimizer_registry.cc:114] Plugin optimizer for device_type GPU is enabled.\n"
     ]
    },
    {
     "name": "stdout",
     "output_type": "stream",
     "text": [
      "460/460 [==============================] - ETA: 0s - loss: 1.1574 - accuracy: 0.5311"
     ]
    },
    {
     "name": "stderr",
     "output_type": "stream",
     "text": [
      "2023-01-05 16:02:34.955457: I tensorflow/core/grappler/optimizers/custom_graph_optimizer_registry.cc:114] Plugin optimizer for device_type GPU is enabled.\n",
      "2023-01-05 16:02:34.991466: I tensorflow/core/grappler/optimizers/custom_graph_optimizer_registry.cc:114] Plugin optimizer for device_type GPU is enabled.\n"
     ]
    },
    {
     "name": "stdout",
     "output_type": "stream",
     "text": [
      "460/460 [==============================] - 24s 48ms/step - loss: 1.1574 - accuracy: 0.5311 - val_loss: 1.0551 - val_accuracy: 0.5843\n",
      "Epoch 2/30\n",
      "460/460 [==============================] - 20s 44ms/step - loss: 0.8118 - accuracy: 0.6806 - val_loss: 0.7874 - val_accuracy: 0.6882\n",
      "Epoch 3/30\n",
      "460/460 [==============================] - 20s 43ms/step - loss: 0.5680 - accuracy: 0.7926 - val_loss: 0.7801 - val_accuracy: 0.7682\n",
      "Epoch 4/30\n",
      "460/460 [==============================] - 20s 44ms/step - loss: 0.3858 - accuracy: 0.8841 - val_loss: 0.6659 - val_accuracy: 0.7937\n",
      "Epoch 5/30\n",
      "460/460 [==============================] - 20s 44ms/step - loss: 0.2779 - accuracy: 0.9159 - val_loss: 0.4930 - val_accuracy: 0.8565\n",
      "Epoch 6/30\n",
      "460/460 [==============================] - 20s 44ms/step - loss: 0.2470 - accuracy: 0.9218 - val_loss: 0.4897 - val_accuracy: 0.8463\n",
      "Epoch 7/30\n",
      "460/460 [==============================] - 20s 44ms/step - loss: 0.2055 - accuracy: 0.9308 - val_loss: 0.4180 - val_accuracy: 0.8724\n",
      "Epoch 8/30\n",
      "460/460 [==============================] - 20s 43ms/step - loss: 0.2090 - accuracy: 0.9321 - val_loss: 0.3752 - val_accuracy: 0.8826\n",
      "Epoch 9/30\n",
      "460/460 [==============================] - 20s 44ms/step - loss: 0.1797 - accuracy: 0.9361 - val_loss: 0.3701 - val_accuracy: 0.8833\n",
      "Epoch 10/30\n",
      "460/460 [==============================] - 20s 44ms/step - loss: 0.2018 - accuracy: 0.9339 - val_loss: 0.4482 - val_accuracy: 0.8789\n",
      "Epoch 11/30\n",
      "460/460 [==============================] - 20s 43ms/step - loss: 0.1714 - accuracy: 0.9403 - val_loss: 0.3704 - val_accuracy: 0.8941\n",
      "Epoch 12/30\n",
      "460/460 [==============================] - 20s 43ms/step - loss: 0.1594 - accuracy: 0.9397 - val_loss: 0.3603 - val_accuracy: 0.9013\n",
      "Epoch 13/30\n",
      "460/460 [==============================] - 21s 45ms/step - loss: 0.1507 - accuracy: 0.9415 - val_loss: 0.4117 - val_accuracy: 0.8945\n",
      "Epoch 14/30\n",
      "460/460 [==============================] - 20s 43ms/step - loss: 0.1474 - accuracy: 0.9423 - val_loss: 0.3312 - val_accuracy: 0.9053\n",
      "Epoch 15/30\n",
      "460/460 [==============================] - 20s 43ms/step - loss: 0.1492 - accuracy: 0.9445 - val_loss: 0.4734 - val_accuracy: 0.8877\n",
      "Epoch 16/30\n",
      "460/460 [==============================] - 20s 43ms/step - loss: 0.1456 - accuracy: 0.9468 - val_loss: 0.5067 - val_accuracy: 0.8846\n",
      "Epoch 17/30\n",
      "460/460 [==============================] - 20s 43ms/step - loss: 0.1442 - accuracy: 0.9455 - val_loss: 0.3736 - val_accuracy: 0.8918\n",
      "Epoch 18/30\n",
      "460/460 [==============================] - 20s 43ms/step - loss: 0.1313 - accuracy: 0.9465 - val_loss: 0.3679 - val_accuracy: 0.9094\n",
      "Epoch 19/30\n",
      "460/460 [==============================] - 21s 45ms/step - loss: 0.1426 - accuracy: 0.9471 - val_loss: 0.3691 - val_accuracy: 0.8972\n",
      "Epoch 20/30\n",
      "460/460 [==============================] - 21s 47ms/step - loss: 0.1427 - accuracy: 0.9475 - val_loss: 0.4908 - val_accuracy: 0.8985\n",
      "Epoch 21/30\n",
      "460/460 [==============================] - 20s 43ms/step - loss: 0.1245 - accuracy: 0.9505 - val_loss: 0.4012 - val_accuracy: 0.9046\n",
      "Epoch 22/30\n",
      "460/460 [==============================] - 20s 44ms/step - loss: 0.1317 - accuracy: 0.9517 - val_loss: 0.3225 - val_accuracy: 0.9077\n",
      "Epoch 23/30\n",
      "460/460 [==============================] - 20s 44ms/step - loss: 0.1327 - accuracy: 0.9501 - val_loss: 0.2988 - val_accuracy: 0.9108\n",
      "Epoch 24/30\n",
      "460/460 [==============================] - 20s 44ms/step - loss: 0.1379 - accuracy: 0.9493 - val_loss: 0.3105 - val_accuracy: 0.9145\n",
      "Epoch 25/30\n",
      "460/460 [==============================] - 21s 46ms/step - loss: 0.1353 - accuracy: 0.9497 - val_loss: 0.4093 - val_accuracy: 0.8938\n",
      "Epoch 26/30\n",
      "460/460 [==============================] - 20s 44ms/step - loss: 0.1307 - accuracy: 0.9495 - val_loss: 0.3224 - val_accuracy: 0.9094\n",
      "Epoch 27/30\n",
      "460/460 [==============================] - 20s 44ms/step - loss: 0.1348 - accuracy: 0.9480 - val_loss: 0.7186 - val_accuracy: 0.8707\n",
      "Epoch 28/30\n",
      "460/460 [==============================] - 20s 44ms/step - loss: 0.1304 - accuracy: 0.9489 - val_loss: 0.4418 - val_accuracy: 0.8985\n",
      "Epoch 29/30\n",
      "460/460 [==============================] - 23s 51ms/step - loss: 0.1298 - accuracy: 0.9531 - val_loss: 0.3322 - val_accuracy: 0.9131\n",
      "Epoch 30/30\n",
      "460/460 [==============================] - 21s 45ms/step - loss: 0.1180 - accuracy: 0.9525 - val_loss: 0.7051 - val_accuracy: 0.8721\n"
     ]
    },
    {
     "data": {
      "text/plain": [
       "<keras.callbacks.History at 0x1523afe80>"
      ]
     },
     "execution_count": 32,
     "metadata": {},
     "output_type": "execute_result"
    }
   ],
   "source": [
    "# Training the model\n",
    "model.fit(X_train,\n",
    "          Y_train,\n",
    "          batch_size=batch_size,\n",
    "          validation_data=(X_test, Y_test),\n",
    "          epochs=epochs)"
   ]
  },
  {
   "cell_type": "code",
   "execution_count": 33,
   "metadata": {},
   "outputs": [
    {
     "name": "stderr",
     "output_type": "stream",
     "text": [
      "2023-01-05 16:12:33.645407: I tensorflow/core/grappler/optimizers/custom_graph_optimizer_registry.cc:114] Plugin optimizer for device_type GPU is enabled.\n",
      "2023-01-05 16:12:33.673548: I tensorflow/core/grappler/optimizers/custom_graph_optimizer_registry.cc:114] Plugin optimizer for device_type GPU is enabled.\n"
     ]
    },
    {
     "name": "stdout",
     "output_type": "stream",
     "text": [
      "93/93 [==============================] - 2s 21ms/step\n",
      "Pred                LAYING  SITTING  STANDING  WALKING  WALKING_DOWNSTAIRS  \\\n",
      "True                                                                         \n",
      "LAYING                 510        0         0        0                   0   \n",
      "SITTING                  0      261       225        0                   0   \n",
      "STANDING                 0       29       500        3                   0   \n",
      "WALKING                  0        0         0      465                  11   \n",
      "WALKING_DOWNSTAIRS       0        0         0       15                 394   \n",
      "WALKING_UPSTAIRS         0        0         0       25                   6   \n",
      "\n",
      "Pred                WALKING_UPSTAIRS  \n",
      "True                                  \n",
      "LAYING                            27  \n",
      "SITTING                            5  \n",
      "STANDING                           0  \n",
      "WALKING                           20  \n",
      "WALKING_DOWNSTAIRS                11  \n",
      "WALKING_UPSTAIRS                 440  \n"
     ]
    }
   ],
   "source": [
    "# Confusion Matrix\n",
    "print(confusion_matrix(Y_test, model.predict(X_test)))"
   ]
  },
  {
   "cell_type": "code",
   "execution_count": 34,
   "metadata": {},
   "outputs": [
    {
     "name": "stdout",
     "output_type": "stream",
     "text": [
      "93/93 [==============================] - 2s 21ms/step - loss: 0.7051 - accuracy: 0.8721\n"
     ]
    }
   ],
   "source": [
    "score = model.evaluate(X_test, Y_test)"
   ]
  },
  {
   "cell_type": "code",
   "execution_count": 35,
   "metadata": {},
   "outputs": [
    {
     "data": {
      "text/plain": [
       "[0.7050734162330627, 0.8720732927322388]"
      ]
     },
     "execution_count": 35,
     "metadata": {},
     "output_type": "execute_result"
    }
   ],
   "source": [
    "score"
   ]
  },
  {
   "cell_type": "markdown",
   "metadata": {},
   "source": [
    "- With a simple 2 layer architecture we got 87.20% accuracy and a loss of 0.70\n",
    "- We can further imporve the performace with Hyperparameter tuning"
   ]
  }
 ],
 "metadata": {
  "kernelspec": {
   "display_name": "Python 3.9 (tensorflow)",
   "language": "python",
   "name": "tensorflow"
  },
  "language_info": {
   "codemirror_mode": {
    "name": "ipython",
    "version": 3
   },
   "file_extension": ".py",
   "mimetype": "text/x-python",
   "name": "python",
   "nbconvert_exporter": "python",
   "pygments_lexer": "ipython3",
   "version": "3.9.15"
  }
 },
 "nbformat": 4,
 "nbformat_minor": 2
}
